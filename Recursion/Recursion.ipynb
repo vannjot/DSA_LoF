{
 "cells": [
  {
   "cell_type": "markdown",
   "metadata": {},
   "source": [
    "# Recursion"
   ]
  },
  {
   "cell_type": "markdown",
   "metadata": {},
   "source": [
    "# Addition using Recursion\n",
    "\n",
    "__Problem Statement:__ Add two nonnegative integers a and b. We are only allowed to add or subtract single units from the numbers. "
   ]
  },
  {
   "cell_type": "markdown",
   "metadata": {},
   "source": [
    " ![](./images/add_1.jpg)\n",
    "  ![](./images/add_2.jpg)\n",
    "   ![](./images/add_3.jpg)\n",
    "    ![](./images/add_4.jpg)"
   ]
  },
  {
   "cell_type": "code",
   "execution_count": 11,
   "metadata": {},
   "outputs": [
    {
     "data": {
      "text/plain": [
       "5"
      ]
     },
     "execution_count": 11,
     "metadata": {},
     "output_type": "execute_result"
    }
   ],
   "source": [
    "def add_1(a,b):\n",
    "    if b == 0:\n",
    "        return a\n",
    "    elif a == 0:\n",
    "        return b\n",
    "    else:\n",
    "        return add_1(a - 1, b) + 1\n",
    "    \n",
    "add_1(2,3)"
   ]
  },
  {
   "cell_type": "markdown",
   "metadata": {},
   "source": [
    " ![](./images/add_5.jpg)\n",
    "  ![](./images/add_6.jpg)\n",
    "   ![](./images/add_7.jpg)\n",
    "    ![](./images/add_8.jpg)"
   ]
  },
  {
   "cell_type": "code",
   "execution_count": 4,
   "metadata": {},
   "outputs": [
    {
     "data": {
      "text/plain": [
       "5"
      ]
     },
     "execution_count": 4,
     "metadata": {},
     "output_type": "execute_result"
    }
   ],
   "source": [
    "def add_2(a, b):\n",
    "    if b == 0:\n",
    "        return a\n",
    "    elif a == 0:\n",
    "        return b\n",
    "    elif a < b:\n",
    "        return add_2(a - 1, b) + 1\n",
    "    else:\n",
    "        return add_2(a, b - 1) + 1\n",
    "\n",
    "add_2(2, 3)"
   ]
  },
  {
   "cell_type": "markdown",
   "metadata": {},
   "source": [
    " ![](./images/add_9.jpg)\n",
    "  ![](./images/add_10.jpg)"
   ]
  },
  {
   "cell_type": "code",
   "execution_count": 5,
   "metadata": {},
   "outputs": [
    {
     "data": {
      "text/plain": [
       "5"
      ]
     },
     "execution_count": 5,
     "metadata": {},
     "output_type": "execute_result"
    }
   ],
   "source": [
    "def add_3(a, b):\n",
    "    if a == 0:\n",
    "        return b\n",
    "    elif b == 0:\n",
    "        return a\n",
    "    else:\n",
    "        return add_3(a-1, b-1) + 2\n",
    "\n",
    "add_3(2, 3)"
   ]
  }
 ],
 "metadata": {
  "kernelspec": {
   "display_name": "Python 3",
   "language": "python",
   "name": "python3"
  },
  "language_info": {
   "codemirror_mode": {
    "name": "ipython",
    "version": 3
   },
   "file_extension": ".py",
   "mimetype": "text/x-python",
   "name": "python",
   "nbconvert_exporter": "python",
   "pygments_lexer": "ipython3",
   "version": "3.7.3"
  }
 },
 "nbformat": 4,
 "nbformat_minor": 2
}
