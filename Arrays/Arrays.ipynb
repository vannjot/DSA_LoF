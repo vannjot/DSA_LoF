{
 "cells": [
  {
   "cell_type": "markdown",
   "metadata": {},
   "source": [
    "# Arrays"
   ]
  },
  {
   "cell_type": "markdown",
   "metadata": {},
   "source": [
    "**Properties of Arrays:**\n",
    "\n",
    "- Arrays can store data of specified type.\n",
    "- Elements of array are located in contigous location in memory.\n",
    "- Each element of array has unique index.\n",
    "- The size of array is predefined and cannot be modified."
   ]
  },
  {
   "cell_type": "markdown",
   "metadata": {},
   "source": [
    "**What is an Array?**\n",
    "\n",
    "In Computer Science, an array is a __data structure__ consisting of a collection of elements, each identified by atleast one array index or key. An array is stored such that the position of each element can be computed from its index by a mathematical formula."
   ]
  },
  {
   "cell_type": "markdown",
   "metadata": {},
   "source": [
    "**Why do we need an Array?**\n",
    "\n",
    "Consider a scenario where we need 3 integer values.\n",
    "\n",
    "We can create __3 Variables__\n",
    "\n",
    "number 1\n",
    "number 2\n",
    "number 3\n",
    "\n",
    "Now, What if we need 500 integers?\n",
    "Are we going to use 500 variables?\n",
    "\n",
    "The Answer is __Array__.\n",
    "\n"
   ]
  },
  {
   "cell_type": "markdown",
   "metadata": {},
   "source": [
    "### **Types of Arrays:**"
   ]
  },
  {
   "cell_type": "markdown",
   "metadata": {},
   "source": [
    "<img src = \"../images/img1.jpg\">"
   ]
  },
  {
   "cell_type": "markdown",
   "metadata": {},
   "source": [
    "![](../images/img2.jpg)"
   ]
  },
  {
   "cell_type": "markdown",
   "metadata": {},
   "source": [
    "![](../images/img3.jpg)"
   ]
  },
  {
   "cell_type": "markdown",
   "metadata": {},
   "source": [
    "### Arrays in Memory"
   ]
  },
  {
   "cell_type": "markdown",
   "metadata": {},
   "source": [
    "![](../images/img4.jpg)\n",
    "![](../images/img5.jpg)\n",
    "\n",
    "*This is the Row Major way of storing the array.*\n",
    "![](../images/img6.jpg)"
   ]
  },
  {
   "cell_type": "markdown",
   "metadata": {},
   "source": [
    "### Creating an Array"
   ]
  },
  {
   "cell_type": "markdown",
   "metadata": {},
   "source": [
    "![](../images/img7.jpg)"
   ]
  },
  {
   "cell_type": "markdown",
   "metadata": {},
   "source": [
    "In Python arrays are not built in data structure instead **list** is a built in ds which is almost same as array with some differences."
   ]
  },
  {
   "cell_type": "markdown",
   "metadata": {},
   "source": [
    "![](../images/img8.jpg)"
   ]
  },
  {
   "cell_type": "code",
   "execution_count": 5,
   "metadata": {},
   "outputs": [
    {
     "name": "stdout",
     "output_type": "stream",
     "text": [
      "array('i', [1, 2, 3, 4, 5, 6])\n"
     ]
    }
   ],
   "source": [
    "from array import *\n",
    "\n",
    "arr1 = array('i', [1, 2, 3, 4, 5, 6])\n",
    "print(arr1)"
   ]
  },
  {
   "cell_type": "code",
   "execution_count": 6,
   "metadata": {},
   "outputs": [
    {
     "name": "stdout",
     "output_type": "stream",
     "text": [
      "array('d', [1.3, 1.5, 1.6, 1.7])\n"
     ]
    }
   ],
   "source": [
    "arr2 = array('d', [1.3, 1.5, 1.6, 1.7])\n",
    "print(arr2)"
   ]
  },
  {
   "cell_type": "markdown",
   "metadata": {},
   "source": [
    "**Time Complexity of Array creation:** O(1)"
   ]
  },
  {
   "cell_type": "markdown",
   "metadata": {},
   "source": [
    "### Insertion"
   ]
  },
  {
   "cell_type": "markdown",
   "metadata": {},
   "source": [
    "![](../images/img9.jpg)\n",
    "<br>\n",
    "How to insert an element at the starting of the Array?\n",
    "\n",
    "By pushing all the elements to the right.\n",
    "<br>\n",
    "![](../images/img10.jpg)\n",
    "![](../images/img11.jpg)\n",
    "![](../images/img12.jpg)\n",
    "\n",
    "When the array is full and we want to insert an element into the array, We first need to copy all the elements of the array to a new array of bigger size. This is a time consuming task."
   ]
  },
  {
   "cell_type": "code",
   "execution_count": 8,
   "metadata": {},
   "outputs": [
    {
     "name": "stdout",
     "output_type": "stream",
     "text": [
      "array('i', [1, 2, 3, 4, 5, 6])\n",
      "array('i', [1, 2, 3, 4, 5, 6, 7])\n"
     ]
    }
   ],
   "source": [
    "#inserting an element to the array\n",
    "arr1 = array('i', [1, 2, 3, 4, 5, 6])\n",
    "print(arr1)\n",
    "\n",
    "arr1.insert(6, 7)\n",
    "print(arr1)"
   ]
  },
  {
   "cell_type": "code",
   "execution_count": 9,
   "metadata": {},
   "outputs": [
    {
     "name": "stdout",
     "output_type": "stream",
     "text": [
      "array('i', [0, 1, 2, 3, 4, 5, 6, 7])\n"
     ]
    }
   ],
   "source": [
    "#inserting an element at the start of the array\n",
    "arr1.insert(0, 0)\n",
    "print(arr1)"
   ]
  },
  {
   "cell_type": "code",
   "execution_count": 10,
   "metadata": {},
   "outputs": [
    {
     "name": "stdout",
     "output_type": "stream",
     "text": [
      "array('i', [0, 1, 9, 2, 3, 4, 5, 6, 7])\n"
     ]
    }
   ],
   "source": [
    "arr1.insert(2, 9)\n",
    "print(arr1)"
   ]
  },
  {
   "cell_type": "markdown",
   "metadata": {},
   "source": [
    "**Time Complexity of Insertion:**\n",
    "Time complexity varies on which part of the array you are inserting.\n",
    "- If you are inserting elements in the begining: O(n)\n",
    "- If you are inserting elements at the end: O(1)\n",
    "- If you are inserting elements in the middle: O(n)\n",
    "- If the array is full and we want to insert to the array: O(n)\n",
    "\n"
   ]
  },
  {
   "cell_type": "markdown",
   "metadata": {},
   "source": [
    "### Array Traversal"
   ]
  },
  {
   "cell_type": "markdown",
   "metadata": {},
   "source": [
    "![](../images/img13.jpg)"
   ]
  },
  {
   "cell_type": "code",
   "execution_count": 11,
   "metadata": {},
   "outputs": [
    {
     "name": "stdout",
     "output_type": "stream",
     "text": [
      "1\n",
      "2\n",
      "3\n",
      "4\n",
      "5\n",
      "6\n"
     ]
    }
   ],
   "source": [
    "arr1 = array('i', [1, 2, 3, 4, 5, 6])\n",
    "\n",
    "def traverse_array(array):\n",
    "    for i in array:\n",
    "        print(i)\n",
    "\n",
    "traverse_array(arr1)"
   ]
  },
  {
   "cell_type": "markdown",
   "metadata": {},
   "source": [
    "**Time Complexity:** O(n)\n",
    "```\n",
    "def traverse_array(array):\n",
    "    for i in array: -------------------------------> O(n)\n",
    "        print(i)    -------------------------------> O(1)\n",
    "                                                    ------\n",
    "                                               T(n)= O(n)\n",
    "```\n",
    "**Space Complexity:** O(1)"
   ]
  },
  {
   "cell_type": "markdown",
   "metadata": {},
   "source": [
    "### Accesing an element of array"
   ]
  },
  {
   "cell_type": "markdown",
   "metadata": {},
   "source": [
    "![](../images/img14.jpg)\n",
    "![](../images/img15.jpg)"
   ]
  },
  {
   "cell_type": "code",
   "execution_count": 16,
   "metadata": {},
   "outputs": [
    {
     "name": "stdout",
     "output_type": "stream",
     "text": [
      "3\n"
     ]
    }
   ],
   "source": [
    "arr1 = array('i', [1, 2, 3, 4, 5, 6])\n",
    "\n",
    "def access_element(array, index):\n",
    "    if index >= len(array):\n",
    "        print(\"Array index out of bound\")\n",
    "    else:\n",
    "        print(array[index])\n",
    "\n",
    "access_element(arr1, 2)"
   ]
  },
  {
   "cell_type": "code",
   "execution_count": 17,
   "metadata": {},
   "outputs": [
    {
     "name": "stdout",
     "output_type": "stream",
     "text": [
      "Array index out of bound\n"
     ]
    }
   ],
   "source": [
    "access_element(arr1, 8)"
   ]
  },
  {
   "cell_type": "code",
   "execution_count": 18,
   "metadata": {},
   "outputs": [
    {
     "name": "stdout",
     "output_type": "stream",
     "text": [
      "Array index out of bound\n"
     ]
    }
   ],
   "source": [
    "access_element(arr1, 6)"
   ]
  },
  {
   "cell_type": "markdown",
   "metadata": {},
   "source": [
    "**Time Complexity:** O(n)\n",
    "```\n",
    "def access_element(array, index):\n",
    "    if index >= len(array): -----------------------------> O(1)\n",
    "        print(\"Array index out of bound\") ---------------> O(1)\n",
    "    else:\n",
    "        print(array[index]) -----------------------------> O(1)\n",
    "                                                          ------\n",
    "                                                    T(n) = O(1)\n",
    "```\n",
    "\n",
    "**Space Complexity:** O(1)"
   ]
  },
  {
   "cell_type": "markdown",
   "metadata": {},
   "source": [
    "### Searching for an element in an Array"
   ]
  },
  {
   "cell_type": "code",
   "execution_count": 25,
   "metadata": {},
   "outputs": [
    {
     "data": {
      "text/plain": [
       "4"
      ]
     },
     "execution_count": 25,
     "metadata": {},
     "output_type": "execute_result"
    }
   ],
   "source": [
    "# Linear Search\n",
    "\n",
    "arr1 = array('i', [1, 2, 3, 4, 5, 6])\n",
    "\n",
    "def searchArray(array, value):\n",
    "    for i in array:\n",
    "        if value == i:\n",
    "            return array.index(value)\n",
    "    return \"Element does not exist in the array\"\n",
    "\n",
    "searchArray(arr1, 5)\n"
   ]
  },
  {
   "cell_type": "code",
   "execution_count": 26,
   "metadata": {},
   "outputs": [
    {
     "data": {
      "text/plain": [
       "'Element does not exist in the array'"
      ]
     },
     "execution_count": 26,
     "metadata": {},
     "output_type": "execute_result"
    }
   ],
   "source": [
    "searchArray(arr1, 7)"
   ]
  },
  {
   "cell_type": "markdown",
   "metadata": {},
   "source": [
    "**Time Complexity:** O(n)\n",
    "\n",
    "```\n",
    "def searchArray(array, value):\n",
    "    for i in array:  --------------------------------------> O(n)\n",
    "        if value == i: ------------------------------------> O(1)\n",
    "            return array.index(value) ---------------------> O(1)\n",
    "    return \"Element does not exist in the array\"-----------> O(1)\n",
    "                                                            -----\n",
    "                                                      T(n) = O(n)\n",
    "```\n",
    "\n",
    "**Space Complexity:** O(1)"
   ]
  },
  {
   "cell_type": "markdown",
   "metadata": {},
   "source": [
    "### Deleting an Element from the Array"
   ]
  },
  {
   "cell_type": "markdown",
   "metadata": {},
   "source": [
    "![](../images/img16.jpg)\n",
    "![](../images/img17.jpg)"
   ]
  },
  {
   "cell_type": "code",
   "execution_count": 33,
   "metadata": {},
   "outputs": [
    {
     "name": "stdout",
     "output_type": "stream",
     "text": [
      "array('i', [2, 3, 4, 5, 6])\n"
     ]
    }
   ],
   "source": [
    "arr1 = array('i', [1, 2, 3, 4, 5, 6])\n",
    "arr1.remove(1)\n",
    "print(arr1)"
   ]
  },
  {
   "cell_type": "code",
   "execution_count": 34,
   "metadata": {},
   "outputs": [
    {
     "name": "stdout",
     "output_type": "stream",
     "text": [
      "array('i', [2, 3, 4, 5])\n"
     ]
    }
   ],
   "source": [
    "arr1.remove(6)\n",
    "print(arr1)"
   ]
  },
  {
   "cell_type": "code",
   "execution_count": 35,
   "metadata": {},
   "outputs": [
    {
     "name": "stdout",
     "output_type": "stream",
     "text": [
      "array('i', [2, 4, 5])\n"
     ]
    }
   ],
   "source": [
    "arr1.remove(3)\n",
    "print(arr1)"
   ]
  },
  {
   "cell_type": "markdown",
   "metadata": {},
   "source": [
    "**Time Complexity:** O(n)<br>\n",
    "**Space Complexity:** O(1)"
   ]
  },
  {
   "cell_type": "markdown",
   "metadata": {},
   "source": [
    "### Time and Space Complexity of 1D Array"
   ]
  },
  {
   "cell_type": "markdown",
   "metadata": {},
   "source": [
    "![](../images/img18.jpg)"
   ]
  }
 ],
 "metadata": {
  "kernelspec": {
   "display_name": "Python 3",
   "language": "python",
   "name": "python3"
  },
  "language_info": {
   "codemirror_mode": {
    "name": "ipython",
    "version": 3
   },
   "file_extension": ".py",
   "mimetype": "text/x-python",
   "name": "python",
   "nbconvert_exporter": "python",
   "pygments_lexer": "ipython3",
   "version": "3.7.3"
  }
 },
 "nbformat": 4,
 "nbformat_minor": 2
}
