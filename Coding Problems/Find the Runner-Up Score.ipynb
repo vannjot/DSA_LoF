{
 "cells": [
  {
   "cell_type": "markdown",
   "metadata": {},
   "source": [
    "## Find the Runner-Up Score!\n",
    "[Link](https://www.hackerrank.com/contests/diploma-in-ai-and-ml-uoh/challenges/find-the-second-largest-element-in-an-list/problem)<br>\n",
    "Given a list of integers as input, return the second largest number. Print \"Error\" in case of any errors like there exists no second largest element.\n",
    "\n",
    "Input Format\n",
    "```\n",
    "Comma seperated list of integers\n",
    "```\n",
    "Constraints\n",
    "```\n",
    "Number of elements in the list is >=2 and <=100,000\n",
    "```\n",
    "Output Format\n",
    "```\n",
    "Print the second largest number or \"Error\"\n",
    "```\n",
    "Sample Input 0\n",
    "```\n",
    "1,2,3,4,6,6\n",
    "```\n",
    "Sample Output 0\n",
    "```\n",
    "4\n",
    "```\n",
    "Sample Input 1\n",
    "```\n",
    "-1, -1, 1, 2, 3,-10\n",
    "```\n",
    "Sample Output 1\n",
    "```\n",
    "2\n",
    "```"
   ]
  },
  {
   "cell_type": "markdown",
   "metadata": {},
   "source": [
    "Test cases:\n",
    "```\n",
    "1, 2, 3, 4, 6, 6 -> 4\n",
    "3, 2, 3 -> 2\n",
    "1, 1, 1 -> Error\n",
    "1 -> Error\n",
    "3, 3 -> 3\n",
    "```"
   ]
  },
  {
   "cell_type": "code",
   "execution_count": 5,
   "metadata": {},
   "outputs": [
    {
     "name": "stdout",
     "output_type": "stream",
     "text": [
      "1,1,1\n",
      "Error\n"
     ]
    }
   ],
   "source": [
    "numberStr = input()\n",
    "\n",
    "#converting the input to list using list comprehensions\n",
    "lst = [int(i) for i in numberStr.split(',')]\n",
    "n = len(lst)\n",
    "\n",
    "# Boundary case\n",
    "if n < 2:\n",
    "    print(\"Error\")\n",
    "    exit()\n",
    "\n",
    "#Initializing first max and second max\n",
    "firstMax = max(lst[0], lst[1])\n",
    "secondMax = min(lst[0], lst[1])\n",
    "\n",
    "#Iterate\n",
    "for i in range (2,n):\n",
    "    if lst[i] > firstMax:\n",
    "        secondMax = firstMax\n",
    "        firstMax = lst[i]\n",
    "    elif (lst[i] > secondMax) and (lst[i] != firstMax):\n",
    "        secondMax = lst[i]\n",
    "\n",
    "#Boundary case: 1,1,1 -> Error\n",
    "if firstMax == secondMax:\n",
    "    print(\"Error\")\n",
    "else:\n",
    "    print(secondMax)"
   ]
  }
 ],
 "metadata": {
  "kernelspec": {
   "display_name": "Python 3",
   "language": "python",
   "name": "python3"
  },
  "language_info": {
   "codemirror_mode": {
    "name": "ipython",
    "version": 3
   },
   "file_extension": ".py",
   "mimetype": "text/x-python",
   "name": "python",
   "nbconvert_exporter": "python",
   "pygments_lexer": "ipython3",
   "version": "3.7.3"
  }
 },
 "nbformat": 4,
 "nbformat_minor": 2
}
